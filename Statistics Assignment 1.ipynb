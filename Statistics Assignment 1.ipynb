{
 "cells": [
  {
   "cell_type": "code",
   "execution_count": null,
   "id": "0cb6b7ff-879f-4359-9b0b-a02db7cc6e45",
   "metadata": {},
   "outputs": [],
   "source": [
    "#Q1\n",
    "'''\n",
    "1.Mean\n",
    "2.Median\n",
    "3.Mode\n",
    "'''\n"
   ]
  },
  {
   "cell_type": "code",
   "execution_count": null,
   "id": "2981204d-803e-44af-8c61-258c00e71702",
   "metadata": {},
   "outputs": [],
   "source": [
    "#Q2\n",
    "'''\n",
    "Mean: Provides a measure of the central point of the data, useful for general averages but can be misleading if outliers are present.\n",
    "Median: Provides the middle point of the data, useful for understanding the central tendency in skewed distributions or when outliers are present.\n",
    "Mode: Identifies the most common value, useful for categorical data and understanding the most frequent occurrences.\n",
    "'''"
   ]
  },
  {
   "cell_type": "code",
   "execution_count": null,
   "id": "edcdcd9e-e1b3-49cb-bc7d-7e776430d490",
   "metadata": {},
   "outputs": [],
   "source": [
    "#Q3\n",
    "'''\n",
    "1.Mean = 176.39\n",
    "2.Median = 176.1\n",
    "3.Mode = 178\n",
    "'''"
   ]
  },
  {
   "cell_type": "code",
   "execution_count": null,
   "id": "b096c5fd-3d17-4687-b069-3e45a33f7f3c",
   "metadata": {},
   "outputs": [],
   "source": [
    "#Q4\n",
    "'''\n",
    "SD = 2.025\n",
    "'''"
   ]
  },
  {
   "cell_type": "code",
   "execution_count": null,
   "id": "ede8d3ac-a79a-4560-bcdd-e61531c6ec90",
   "metadata": {},
   "outputs": [],
   "source": [
    "#Q5\n",
    "'''\n",
    "1.Range:\n",
    "Range=Max−Min\n",
    "2.Variance:  Variance measures the average squared deviation of each data point from the mean of the dataset.\n",
    "3.Standard Deviation:Underroot Variance\n",
    "\n"
   ]
  },
  {
   "cell_type": "code",
   "execution_count": null,
   "id": "466c06cb-d386-4746-8907-fcfb9ecdf1fd",
   "metadata": {},
   "outputs": [],
   "source": [
    "#Q7\n",
    "'''\n",
    "A∩B={2,6}\n",
    "A∪B={0,2,3,4,5,6,7,8,10} (Union)\n",
    "'''"
   ]
  },
  {
   "cell_type": "code",
   "execution_count": null,
   "id": "b901824b-7d47-4798-80c7-f7b23c260bad",
   "metadata": {},
   "outputs": [],
   "source": [
    "#Q8\n",
    "'''\n",
    "Skewness is a critical aspect of data analysis, providing insights into the shape and distribution of data.\n",
    "Understanding whether data is positively skewed, negatively skewed, or symmetric (not skewed) helps in making informed decisions about analysis techniques, model assumptions, and interpretation of results. \n",
    "It's an essential concept for anyone working with data to ensure accurate and meaningful conclusions from their analyses.\n",
    "'''\n"
   ]
  },
  {
   "cell_type": "code",
   "execution_count": null,
   "id": "5edd8a7e-25ee-46b7-9eed-6a1faf7618ef",
   "metadata": {},
   "outputs": [],
   "source": [
    "#Q9\n",
    "'''\n",
    "In summary, in a right-skewed distribution:\n",
    "\n",
    "The mean is greater than the median.\n",
    "This relationship holds because the mean is influenced by extreme values in the dataset, particularly those in the right tail that are higher than the median, which divides the dataset into equal halves.\n",
    "'''\n",
    "\n",
    "\n",
    "\n",
    "\n"
   ]
  },
  {
   "cell_type": "code",
   "execution_count": null,
   "id": "159c90e7-1032-4f2e-9203-af64f6d9f0a0",
   "metadata": {},
   "outputs": [],
   "source": [
    "#Q10\n",
    "'''\n",
    "Units: Covariance has units that are the product of the units of 𝑋 and 𝑌 while correlation is unitless.\n",
    "Range: Covariance can take any real value, while correlation is bounded between -1 and +1.\n",
    "Interpretation: Correlation is often preferred for comparing the relationships between variables because it is standardized and easier to interpret in terms of strength and direction.\n",
    "'''"
   ]
  },
  {
   "cell_type": "code",
   "execution_count": null,
   "id": "607116e4-d15f-49cb-80cc-62ea8f82184d",
   "metadata": {},
   "outputs": [],
   "source": [
    "#Q11\n",
    "'''\n",
    "The sample mean, denoted as x bar, is a measure of central tendency that represents the average value of a dataset. It is calculated by summing all the values in the dataset and dividing by the number of observations 𝑛\n"
   ]
  },
  {
   "cell_type": "code",
   "execution_count": null,
   "id": "5b096a83-722d-4cde-8e7a-4282061e93b4",
   "metadata": {},
   "outputs": [],
   "source": []
  },
  {
   "cell_type": "code",
   "execution_count": null,
   "id": "04edac79-9d7d-4d12-b337-957c6aa12b91",
   "metadata": {},
   "outputs": [],
   "source": []
  }
 ],
 "metadata": {
  "kernelspec": {
   "display_name": "Python 3 (ipykernel)",
   "language": "python",
   "name": "python3"
  },
  "language_info": {
   "codemirror_mode": {
    "name": "ipython",
    "version": 3
   },
   "file_extension": ".py",
   "mimetype": "text/x-python",
   "name": "python",
   "nbconvert_exporter": "python",
   "pygments_lexer": "ipython3",
   "version": "3.10.8"
  }
 },
 "nbformat": 4,
 "nbformat_minor": 5
}
