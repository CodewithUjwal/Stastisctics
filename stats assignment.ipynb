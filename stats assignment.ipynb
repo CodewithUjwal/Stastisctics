{
 "cells": [
  {
   "cell_type": "code",
   "execution_count": null,
   "id": "9cf06f05-013e-4870-9f28-d63dd87a698a",
   "metadata": {},
   "outputs": [],
   "source": [
    "#Q1\n",
    "'''\n",
    "Statistics is a branch of mathematics dealing with the collection, analysis, interpretation, presentation, and organization of data. \n",
    "It provides methods and techniques for understanding and making sense of data, and it helps in making decisions based on data.\n",
    "'''\n"
   ]
  },
  {
   "cell_type": "code",
   "execution_count": null,
   "id": "cba690a8-678f-49fd-8be8-76e56b22e8c0",
   "metadata": {},
   "outputs": [],
   "source": [
    "#Q2\n",
    "'''\n",
    "Descriptive Statistics:Descriptive statistics involves summarizing and organizing data so that it can be easily understood. \n",
    "It provides simple summaries about the sample and the measures.\n",
    "Example:A teacher wants to understand the performance of students in a test. By calculating the average score (mean), the middle score (median), and the most frequent score (mode), the teacher can summarize the overall performance. \n",
    "Additionally, by using a histogram, the teacher can visually represent the distribution of scores.\n",
    "\n",
    " Inferential Statistics: Inferential statistics involves making predictions or inferences about a population based on a sample of data. \n",
    " It helps in drawing conclusions and making decisions based on data analysis.\n",
    "Example:A pharmaceutical company wants to know if a new drug is effective in lowering blood pressure.\n",
    "By conducting a clinical trial on a sample of patients and using hypothesis testing (e.g., t-test), the company can infer whether the drug has a significant effect on the population as a whole.\n"
   ]
  },
  {
   "cell_type": "code",
   "execution_count": null,
   "id": "cec74008-cc6a-4de6-9ec7-2efa97ce06fe",
   "metadata": {},
   "outputs": [],
   "source": [
    "#Q3\n",
    "'''\n",
    "\n",
    "Data can be classified into different types based on its nature and the level of measurement. The main types of data are:\n",
    "\n",
    "Qualitative Data (Categorical Data):\n",
    "Nominal Data\n",
    "Ordinal Data\n",
    "\n",
    "Quantitative Data (Numerical Data):\n",
    "Discrete Data\n",
    "Continuous Data\n",
    "'''\n"
   ]
  },
  {
   "cell_type": "code",
   "execution_count": null,
   "id": "15e10f09-4a75-4d7e-9669-cf3f4b241a2e",
   "metadata": {},
   "outputs": [],
   "source": [
    "#Q4\n",
    "'''\n",
    "1. Ordinal Data\n",
    "2. Nominal Data\n",
    "3. Continuous Data\n",
    "4. Discrete Data\n",
    "'''\n"
   ]
  },
  {
   "cell_type": "code",
   "execution_count": null,
   "id": "beb73fbc-8310-42b0-8a59-d1dc54bf4c30",
   "metadata": {},
   "outputs": [],
   "source": [
    "#Q5\n",
    "'''\n",
    "The concept of levels of measurement, introduced by psychologist Stanley Smith Stevens, refers to the different ways variables can be quantified and categorized. There are four primary levels of measurement: nominal, ordinal, interval, and ratio. \n",
    "Each level of measurement has distinct properties that determine the types of statistical analyses that are appropriate for the data.\n",
    "'''\n"
   ]
  },
  {
   "cell_type": "code",
   "execution_count": null,
   "id": "6e97a770-bb16-4195-96ff-86eeb0418bc5",
   "metadata": {},
   "outputs": [],
   "source": [
    "#Q6\n",
    "'''\n",
    "Understanding the level of measurement is crucial when analyzing data because it determines the appropriate statistical methods and techniques that can be applied to the data, ensuring valid and meaningful results. \n",
    "Different levels of measurement provide different types of information and have varying levels of mathematical complexity. \n",
    "Using incorrect methods can lead to inaccurate conclusions and misinterpretations.\n",
    "'''\n"
   ]
  },
  {
   "cell_type": "code",
   "execution_count": null,
   "id": "fee70380-6a5e-40ff-9206-061b02ec1d52",
   "metadata": {},
   "outputs": [],
   "source": [
    "#Q7\n",
    "'''\n",
    "Order:\n",
    "\n",
    "Nominal: No intrinsic order (e.g., pet types: dog, cat, bird, fish).\n",
    "Ordinal: Categories have a meaningful order (e.g., customer satisfaction: unsatisfied, neutral, satisfied).\n",
    "Interval Consistency:\n",
    "\n",
    "Nominal: Not applicable (e.g., colors: red, blue, green).\n",
    "Ordinal: Intervals between categories are not consistent or measurable (e.g., education levels: high school, bachelor's, master's).\n",
    "Analysis Techniques:\n",
    "\n",
    "Nominal: Mode, frequency distribution, contingency tables.\n",
    "Ordinal: Median, mode, rank correlation, non-parametric tests (e.g., Spearman's rank correlation).\n",
    "Mathematical Operations:\n",
    "\n",
    "Nominal: No meaningful arithmetic operations.\n",
    "Ordinal: Limited to order comparisons (greater than, less than), no meaningful arithmetic operations."
   ]
  },
  {
   "cell_type": "code",
   "execution_count": null,
   "id": "2866e500-0b1d-4f11-a19a-498d5f5b7f57",
   "metadata": {},
   "outputs": [],
   "source": []
  },
  {
   "cell_type": "code",
   "execution_count": null,
   "id": "c3d2c3df-b2d5-4a5c-9a16-a8e815df846c",
   "metadata": {},
   "outputs": [],
   "source": []
  }
 ],
 "metadata": {
  "kernelspec": {
   "display_name": "Python 3 (ipykernel)",
   "language": "python",
   "name": "python3"
  },
  "language_info": {
   "codemirror_mode": {
    "name": "ipython",
    "version": 3
   },
   "file_extension": ".py",
   "mimetype": "text/x-python",
   "name": "python",
   "nbconvert_exporter": "python",
   "pygments_lexer": "ipython3",
   "version": "3.10.8"
  }
 },
 "nbformat": 4,
 "nbformat_minor": 5
}
